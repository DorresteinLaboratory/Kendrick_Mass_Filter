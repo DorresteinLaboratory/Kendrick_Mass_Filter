{
 "cells": [
  {
   "cell_type": "markdown",
   "metadata": {},
   "source": [
    "# Kendrick Mass Filter \n",
    " __Authors:__ Ricardo R. da Silva (ridasilva@ucsd.edu), Madeleine Ernst (mernst@ucsd.edu), Alan K. Jarmusch (ajarmusch@ucsd.edu) <br>\n",
    " __Verion:__ 1.0 (Prior to Submission of Manuscript) <br>\n",
    " __Date of Last Revision:__ 06-21-2018 <br>\n",
    " \n",
    "**Description**: Kendrick mass is the mass-to-charge (*m/z*) of each ion rescaled to an integer value of a given unit repeat. The defect between the Kendrick scaled *m/z* and the integer Kendrick mass value, i.e. Kendrick mass defect (KMD), is similar between homologous compounds. The Kendrick Mass Filter (MDF) is used to perform selection and removal of data centered around a user-defined KMD, with addtional restrictions on the elution time and presence of possibly multiple homologous compounds eluting together. This notebook calculates and visualizes data output obtained through the Kendrick Mass Filter for a selected dataset using user-defined parameters.\n",
    "\n",
    "**Input**: <br>\n",
    "<ul>\n",
    "<li>**Feature table**: (.csv) file with MS features in columns and samples in rows. Feature IDs are provided in the column names in the following format: \"mz;RT\". The first column must contain sample names. </li>\n",
    "</ul> <br>\n",
    "**Output**: <br>\n",
    "<ul>\n",
    "<li>**Summary tables**: (.csv) files containing Kendrick mass filtered output data. </li>\n",
    "<li>**Plots** (.pdf): Kendrick mass plot, MS1 features plot and spectra before and after applying KMF.</li>\n",
    "</ul> <br> \n",
    "**Dependencies**: R version 3.4.2 (2017-09-28) and packages: tidyr_0.8.0, dplyr_0.7.4, gridExtra_2.3, gtable_0.2.0, Rgraphviz_2.22.0, graph_1.56.0, BiocGenerics_0.24.0, Hmisc_4.0-3, ggplot2_2.2.1, Formula_1.2-2, survival_2.41-3, lattice_0.20-35 "
   ]
  },
  {
   "cell_type": "markdown",
   "metadata": {},
   "source": [
    "load libraries"
   ]
  },
  {
   "cell_type": "code",
   "execution_count": 2,
   "metadata": {
    "collapsed": false
   },
   "outputs": [],
   "source": [
    "library(Hmisc)\n",
    "library(Rgraphviz)\n",
    "library(graph)\n",
    "library(ggplot2)\n",
    "library(gtable)\n",
    "library(grid)\n",
    "library(gridExtra)\n",
    "library(dplyr)\n",
    "library(tidyr)\n",
    "\n",
    "library(partitions)\n",
    "library(rgl)"
   ]
  },
  {
   "cell_type": "markdown",
   "metadata": {},
   "source": [
    "load Kendrick Mass Filter source function"
   ]
  },
  {
   "cell_type": "code",
   "execution_count": 3,
   "metadata": {
    "collapsed": true
   },
   "outputs": [],
   "source": [
    "source(\"kendrick.mass.filter_new_all_datamatrix_terminologyupdate.R\")"
   ]
  },
  {
   "cell_type": "markdown",
   "metadata": {},
   "source": [
    "# Data Input and Preparation for Kendrick Mass Filter"
   ]
  },
  {
   "cell_type": "markdown",
   "metadata": {},
   "source": [
    "load data matrix (samples in rows and variables in columns)"
   ]
  },
  {
   "cell_type": "code",
   "execution_count": 4,
   "metadata": {
    "collapsed": false
   },
   "outputs": [
    {
     "data": {
      "text/html": [
       "<table>\n",
       "<thead><tr><th scope=col>SAMPLE</th><th scope=col>432.281884626908;2.53300454545454</th><th scope=col>476.305215199788;2.6522125</th><th scope=col>388.253383000691;2.37624166666666</th><th scope=col>520.333179050021;2.75036574074074</th><th scope=col>415.252231763756;2.53302173913043</th><th scope=col>344.228422164916;2.14777916666666</th><th scope=col>371.22840590704;2.37920158730158</th><th scope=col>459.281274159749;2.65194375</th><th scope=col>503.303718898607;2.75060072463768</th><th scope=col>⋯</th><th scope=col>402.770065307617;3.13023333333333</th><th scope=col>202.109008789062;10.37515</th><th scope=col>123.091598510742;10.1250166666666</th><th scope=col>391.201583862304;2.37786666666666</th><th scope=col>153.137969970703;8.26475</th><th scope=col>667.394714355468;2.99201666666666</th><th scope=col>407.222579956054;2.68493333333333</th><th scope=col>724.43359375;3.28585</th><th scope=col>219.17446899414;5.62343333333333</th><th scope=col>130.966156005859;1.47876666666666</th></tr></thead>\n",
       "<tbody>\n",
       "\t<tr><td>20170728_MS1_17k_PEG_1</td><td>6429624506            </td><td>5408429283            </td><td>7514160792            </td><td>4055533016            </td><td>3666656651            </td><td>8277896112            </td><td>3977181472            </td><td>2950759341            </td><td>1904767377            </td><td>⋯                     </td><td>2223329               </td><td>7827148               </td><td>50427613              </td><td>810762                </td><td>53314268              </td><td>1399198               </td><td>1189306               </td><td>1661110               </td><td>1181526               </td><td>28890918              </td></tr>\n",
       "\t<tr><td>20170728_MS1_17k_PEG_2</td><td>6617665352            </td><td>5505775209            </td><td>7571515869            </td><td>4112716607            </td><td>3882034452            </td><td>8206703134            </td><td>         0            </td><td>2955649147            </td><td>1960552584            </td><td>⋯                     </td><td>      0               </td><td>      0               </td><td>       0              </td><td>     0                </td><td>       0              </td><td>      0               </td><td>      0               </td><td>      0               </td><td>      0               </td><td>       0              </td></tr>\n",
       "\t<tr><td>20170728_MS1_17k_PEG_3</td><td>6576928427            </td><td>5625211740            </td><td>7567208669            </td><td>4159129490            </td><td>3816859834            </td><td>8316890279            </td><td>4083276215            </td><td>3003420137            </td><td>1917175859            </td><td>⋯                     </td><td>      0               </td><td>      0               </td><td>       0              </td><td>     0                </td><td>       0              </td><td>      0               </td><td>      0               </td><td>      0               </td><td>      0               </td><td>       0              </td></tr>\n",
       "</tbody>\n",
       "</table>\n"
      ],
      "text/latex": [
       "\\begin{tabular}{r|llllllllllllllllllllllllllllllllllllllllllllllllllllllllllllllllllllllllllllllllllllllllllllllllllllllllllllllllllllllllllllllllllllllllllllllllllllllllllllllllllllllllllllllllllllllllllllllllllllllllllllllllllllllllllllllllllllllllllllllllllllllllllllllllllllllllllllllllllllllllllllllllllllllllllllllllllllllllllllllllllllllllllllllllllllllllllllllllllllllllllllllllllllllllllllllllllllllllllllllllllllllllllllllllllllllllllllll}\n",
       " SAMPLE & 432.281884626908;2.53300454545454 & 476.305215199788;2.6522125 & 388.253383000691;2.37624166666666 & 520.333179050021;2.75036574074074 & 415.252231763756;2.53302173913043 & 344.228422164916;2.14777916666666 & 371.22840590704;2.37920158730158 & 459.281274159749;2.65194375 & 503.303718898607;2.75060072463768 & ⋯ & 402.770065307617;3.13023333333333 & 202.109008789062;10.37515 & 123.091598510742;10.1250166666666 & 391.201583862304;2.37786666666666 & 153.137969970703;8.26475 & 667.394714355468;2.99201666666666 & 407.222579956054;2.68493333333333 & 724.43359375;3.28585 & 219.17446899414;5.62343333333333 & 130.966156005859;1.47876666666666\\\\\n",
       "\\hline\n",
       "\t 20170728\\_MS1\\_17k\\_PEG\\_1 & 6429624506                     & 5408429283                     & 7514160792                     & 4055533016                     & 3666656651                     & 8277896112                     & 3977181472                     & 2950759341                     & 1904767377                     & ⋯                              & 2223329                        & 7827148                        & 50427613                       & 810762                         & 53314268                       & 1399198                        & 1189306                        & 1661110                        & 1181526                        & 28890918                      \\\\\n",
       "\t 20170728\\_MS1\\_17k\\_PEG\\_2 & 6617665352                     & 5505775209                     & 7571515869                     & 4112716607                     & 3882034452                     & 8206703134                     &          0                     & 2955649147                     & 1960552584                     & ⋯                              &       0                        &       0                        &        0                       &      0                         &        0                       &       0                        &       0                        &       0                        &       0                        &        0                      \\\\\n",
       "\t 20170728\\_MS1\\_17k\\_PEG\\_3 & 6576928427                     & 5625211740                     & 7567208669                     & 4159129490                     & 3816859834                     & 8316890279                     & 4083276215                     & 3003420137                     & 1917175859                     & ⋯                              &       0                        &       0                        &        0                       &      0                         &        0                       &       0                        &       0                        &       0                        &       0                        &        0                      \\\\\n",
       "\\end{tabular}\n"
      ],
      "text/markdown": [
       "\n",
       "SAMPLE | 432.281884626908;2.53300454545454 | 476.305215199788;2.6522125 | 388.253383000691;2.37624166666666 | 520.333179050021;2.75036574074074 | 415.252231763756;2.53302173913043 | 344.228422164916;2.14777916666666 | 371.22840590704;2.37920158730158 | 459.281274159749;2.65194375 | 503.303718898607;2.75060072463768 | ⋯ | 402.770065307617;3.13023333333333 | 202.109008789062;10.37515 | 123.091598510742;10.1250166666666 | 391.201583862304;2.37786666666666 | 153.137969970703;8.26475 | 667.394714355468;2.99201666666666 | 407.222579956054;2.68493333333333 | 724.43359375;3.28585 | 219.17446899414;5.62343333333333 | 130.966156005859;1.47876666666666 | \n",
       "|---|---|---|\n",
       "| 20170728_MS1_17k_PEG_1 | 6429624506             | 5408429283             | 7514160792             | 4055533016             | 3666656651             | 8277896112             | 3977181472             | 2950759341             | 1904767377             | ⋯                      | 2223329                | 7827148                | 50427613               | 810762                 | 53314268               | 1399198                | 1189306                | 1661110                | 1181526                | 28890918               | \n",
       "| 20170728_MS1_17k_PEG_2 | 6617665352             | 5505775209             | 7571515869             | 4112716607             | 3882034452             | 8206703134             |          0             | 2955649147             | 1960552584             | ⋯                      |       0                |       0                |        0               |      0                 |        0               |       0                |       0                |       0                |       0                |        0               | \n",
       "| 20170728_MS1_17k_PEG_3 | 6576928427             | 5625211740             | 7567208669             | 4159129490             | 3816859834             | 8316890279             | 4083276215             | 3003420137             | 1917175859             | ⋯                      |       0                |       0                |        0               |      0                 |        0               |       0                |       0                |       0                |       0                |        0               | \n",
       "\n",
       "\n"
      ],
      "text/plain": [
       "  SAMPLE                 432.281884626908;2.53300454545454\n",
       "1 20170728_MS1_17k_PEG_1 6429624506                       \n",
       "2 20170728_MS1_17k_PEG_2 6617665352                       \n",
       "3 20170728_MS1_17k_PEG_3 6576928427                       \n",
       "  476.305215199788;2.6522125 388.253383000691;2.37624166666666\n",
       "1 5408429283                 7514160792                       \n",
       "2 5505775209                 7571515869                       \n",
       "3 5625211740                 7567208669                       \n",
       "  520.333179050021;2.75036574074074 415.252231763756;2.53302173913043\n",
       "1 4055533016                        3666656651                       \n",
       "2 4112716607                        3882034452                       \n",
       "3 4159129490                        3816859834                       \n",
       "  344.228422164916;2.14777916666666 371.22840590704;2.37920158730158\n",
       "1 8277896112                        3977181472                      \n",
       "2 8206703134                                 0                      \n",
       "3 8316890279                        4083276215                      \n",
       "  459.281274159749;2.65194375 503.303718898607;2.75060072463768 ⋯\n",
       "1 2950759341                  1904767377                        ⋯\n",
       "2 2955649147                  1960552584                        ⋯\n",
       "3 3003420137                  1917175859                        ⋯\n",
       "  402.770065307617;3.13023333333333 202.109008789062;10.37515\n",
       "1 2223329                           7827148                  \n",
       "2       0                                 0                  \n",
       "3       0                                 0                  \n",
       "  123.091598510742;10.1250166666666 391.201583862304;2.37786666666666\n",
       "1 50427613                          810762                           \n",
       "2        0                               0                           \n",
       "3        0                               0                           \n",
       "  153.137969970703;8.26475 667.394714355468;2.99201666666666\n",
       "1 53314268                 1399198                          \n",
       "2        0                       0                          \n",
       "3        0                       0                          \n",
       "  407.222579956054;2.68493333333333 724.43359375;3.28585\n",
       "1 1189306                           1661110             \n",
       "2       0                                 0             \n",
       "3       0                                 0             \n",
       "  219.17446899414;5.62343333333333 130.966156005859;1.47876666666666\n",
       "1 1181526                          28890918                         \n",
       "2       0                                 0                         \n",
       "3       0                                 0                         "
      ]
     },
     "metadata": {},
     "output_type": "display_data"
    }
   ],
   "source": [
    "data_matrix <- read.csv(\"all17K/tab17PEG.csv\", header=T, check.names=F)\n",
    "head(data_matrix)"
   ]
  },
  {
   "cell_type": "markdown",
   "metadata": {},
   "source": [
    "Prepare data for Kendrick Mass Filter: create a matrix containing one column with *m/z* values and another column with RT values and intensity, used by the gaussian filter."
   ]
  },
  {
   "cell_type": "code",
   "execution_count": 5,
   "metadata": {
    "collapsed": false
   },
   "outputs": [
    {
     "data": {
      "text/html": [
       "<table>\n",
       "<thead><tr><th></th><th scope=col>mz</th><th scope=col>rt</th><th scope=col>int</th></tr></thead>\n",
       "<tbody>\n",
       "\t<tr><th scope=row>432.281884626908;2.53300454545454</th><td>432.2819  </td><td>2.533005  </td><td>6429624506</td></tr>\n",
       "\t<tr><th scope=row>476.305215199788;2.6522125</th><td>476.3052  </td><td>2.652213  </td><td>5408429283</td></tr>\n",
       "\t<tr><th scope=row>388.253383000691;2.37624166666666</th><td>388.2534  </td><td>2.376242  </td><td>7514160792</td></tr>\n",
       "\t<tr><th scope=row>520.333179050021;2.75036574074074</th><td>520.3332  </td><td>2.750366  </td><td>4055533016</td></tr>\n",
       "\t<tr><th scope=row>415.252231763756;2.53302173913043</th><td>415.2522  </td><td>2.533022  </td><td>3666656651</td></tr>\n",
       "\t<tr><th scope=row>344.228422164916;2.14777916666666</th><td>344.2284  </td><td>2.147779  </td><td>8277896112</td></tr>\n",
       "</tbody>\n",
       "</table>\n"
      ],
      "text/latex": [
       "\\begin{tabular}{r|lll}\n",
       "  & mz & rt & int\\\\\n",
       "\\hline\n",
       "\t432.281884626908;2.53300454545454 & 432.2819   & 2.533005   & 6429624506\\\\\n",
       "\t476.305215199788;2.6522125 & 476.3052   & 2.652213   & 5408429283\\\\\n",
       "\t388.253383000691;2.37624166666666 & 388.2534   & 2.376242   & 7514160792\\\\\n",
       "\t520.333179050021;2.75036574074074 & 520.3332   & 2.750366   & 4055533016\\\\\n",
       "\t415.252231763756;2.53302173913043 & 415.2522   & 2.533022   & 3666656651\\\\\n",
       "\t344.228422164916;2.14777916666666 & 344.2284   & 2.147779   & 8277896112\\\\\n",
       "\\end{tabular}\n"
      ],
      "text/markdown": [
       "\n",
       "| <!--/--> | mz | rt | int | \n",
       "|---|---|---|---|---|---|\n",
       "| 432.281884626908;2.53300454545454 | 432.2819   | 2.533005   | 6429624506 | \n",
       "| 476.305215199788;2.6522125 | 476.3052   | 2.652213   | 5408429283 | \n",
       "| 388.253383000691;2.37624166666666 | 388.2534   | 2.376242   | 7514160792 | \n",
       "| 520.333179050021;2.75036574074074 | 520.3332   | 2.750366   | 4055533016 | \n",
       "| 415.252231763756;2.53302173913043 | 415.2522   | 2.533022   | 3666656651 | \n",
       "| 344.228422164916;2.14777916666666 | 344.2284   | 2.147779   | 8277896112 | \n",
       "\n",
       "\n"
      ],
      "text/plain": [
       "                                  mz       rt       int       \n",
       "432.281884626908;2.53300454545454 432.2819 2.533005 6429624506\n",
       "476.305215199788;2.6522125        476.3052 2.652213 5408429283\n",
       "388.253383000691;2.37624166666666 388.2534 2.376242 7514160792\n",
       "520.333179050021;2.75036574074074 520.3332 2.750366 4055533016\n",
       "415.252231763756;2.53302173913043 415.2522 2.533022 3666656651\n",
       "344.228422164916;2.14777916666666 344.2284 2.147779 8277896112"
      ]
     },
     "metadata": {},
     "output_type": "display_data"
    }
   ],
   "source": [
    "vec <- do.call(rbind,lapply(strsplit(colnames(data_matrix)[2:ncol(data_matrix)],\";\"),matrix,ncol=2,byrow=TRUE))\n",
    "class(vec) <- \"numeric\"\n",
    "colnames(vec)<- c(\"mz\",\"rt\")\n",
    "\n",
    "vec <- cbind(vec, t(data_matrix[1,-1]))\n",
    "colnames(vec)[3] <- 'int'\n",
    "\n",
    "head(vec)"
   ]
  },
  {
   "cell_type": "code",
   "execution_count": 6,
   "metadata": {
    "collapsed": false
   },
   "outputs": [
    {
     "data": {
      "text/html": [
       "<ol class=list-inline>\n",
       "\t<li>429</li>\n",
       "\t<li>3</li>\n",
       "</ol>\n"
      ],
      "text/latex": [
       "\\begin{enumerate*}\n",
       "\\item 429\n",
       "\\item 3\n",
       "\\end{enumerate*}\n"
      ],
      "text/markdown": [
       "1. 429\n",
       "2. 3\n",
       "\n",
       "\n"
      ],
      "text/plain": [
       "[1] 429   3"
      ]
     },
     "metadata": {},
     "output_type": "display_data"
    }
   ],
   "source": [
    "dim(vec)"
   ]
  },
  {
   "cell_type": "markdown",
   "metadata": {},
   "source": [
    "# Apply Kendrick Mass Filter to data - extended\n",
    "Parameters, which can be specified when running the mass filter: <br>\n",
    "1. __Kendrick mass defect (KMD) [Da]__ - tolerance of mass defect. Smaller values result in a more stingent homology parameter. <br>\n",
    "2. __Retention time (RT) [min]__ - tolerance for chromatographic elution. <br>\n",
    "3. __Number of Observations (NOS)__ - how many oligomer peaks must be observed. Larger values result in more specificity. \n",
    "4. __connection_filter__ must be set to \"TRUE\" for NOS parameter to function correctly. <br>\n",
    "5. __polymer__ - selection of polymers or signals to filter, options are:<br>\n",
    "alkane_other_CH2, oxidation, water_cluster, alkane_C2H4, methanol_cluster, acetonitrile_cluster, propylation_other_C3H6, polyethylene_glycol_other_C2H4O1, perfluoro_CF2, ammoniumchloride_cluster, butylation_other_C4H8, sodiumchloride_cluster, polypropylene_glycol_other_C3H6O1, ammoniumformate_cluster, sodiumformate_cluster, potassiumchloride_cluster, polysiloxane, <br> sodiumacetate_cluster\n",
    "6. __filterShape__ - find sequence of peaks with fixed proportional difference (default 0.6) that contain a single maximum\n",
    "7. __fractionBase__ - Base used to divide the polymer unit base"
   ]
  },
  {
   "cell_type": "markdown",
   "metadata": {},
   "source": [
    "run the Kendrick Mass Filter with user-specified parameters"
   ]
  },
  {
   "cell_type": "code",
   "execution_count": 7,
   "metadata": {
    "collapsed": false
   },
   "outputs": [],
   "source": [
    "output <- Kendrick.mass.filter(\n",
    "    data_matrix, \n",
    "    vec,\n",
    "    polymer = \"polyethylene_glycol_other_C2H4O1\", \n",
    "    KMD = 0.01, \n",
    "    RT = 0.8, \n",
    "    NOS = 2, \n",
    "    connection_filter = TRUE,\n",
    "    filterShape=TRUE,\n",
    "    fractionBase=1\n",
    ")"
   ]
  },
  {
   "cell_type": "code",
   "execution_count": 8,
   "metadata": {
    "collapsed": false
   },
   "outputs": [
    {
     "name": "stderr",
     "output_type": "stream",
     "text": [
      "Warning message in simpleLoess(y, x, w, span, degree = degree, parametric = parametric, :\n",
      "“Chernobyl! trL>n 6”Warning message in simpleLoess(y, x, w, span, degree = degree, parametric = parametric, :\n",
      "“Chernobyl! trL>n 6”"
     ]
    },
    {
     "data": {
      "image/png": "[encoded data removed]",
      "text/plain": [
       "plot without title"
      ]
     },
     "metadata": {},
     "output_type": "display_data"
    }
   ],
   "source": [
    "# Plot shape filter\n",
    "\n",
    "# connected peaks detected by KMD\n",
    "comp <- output$conn\n",
    "# selection of the pattern deteced by filterShape\n",
    "filt <- output$filt\n",
    "\n",
    "\n",
    "plot(vec[,-2], type='h')\n",
    "points(vec[as.numeric(comp[[1]]),-2], type='h', col=2, lwd=2)\n",
    "\n",
    "y <- vec[as.numeric(comp[[1]])[filt[[1]]],3]\n",
    "x <- vec[as.numeric(comp[[1]])[filt[[1]]],1]\n",
    "\n",
    "# Fit a polynomial curve for points of the interval\n",
    "# with the pattern interval\n",
    "xl <- seq(min(x),max(x), (max(x) - min(x))/1000)\n",
    "lo <- loess(y~x)\n",
    "lines(xl, predict(lo,xl), col='red', lwd=2)\n",
    "\n",
    "points(vec[as.numeric(comp[[2]]),-2], type='h', col=4, lwd=2)\n",
    "y <- vec[as.numeric(comp[[2]])[filt[[2]]],3]\n",
    "x <- vec[as.numeric(comp[[2]])[filt[[2]]],1]\n",
    "xl <- seq(min(x),max(x), (max(x) - min(x))/1000)\n",
    "lo <- loess(y~x)\n",
    "lines(xl, predict(lo,xl), col='blue', lwd=2)"
   ]
  },
  {
   "cell_type": "code",
   "execution_count": 9,
   "metadata": {
    "collapsed": true
   },
   "outputs": [],
   "source": [
    "# keep rgl from plotting on the screen\n",
    "save <- getOption(\"rgl.useNULL\")\n",
    "options(rgl.useNULL=TRUE)"
   ]
  },
  {
   "cell_type": "code",
   "execution_count": 10,
   "metadata": {
    "collapsed": false
   },
   "outputs": [
    {
     "data": {},
     "metadata": {},
     "output_type": "display_data"
    },
    {
     "data": {},
     "metadata": {},
     "output_type": "display_data"
    },
    {
     "name": "stderr",
     "output_type": "stream",
     "text": [
      "Warning message in simpleLoess(y, x, w, span, degree = degree, parametric = parametric, :\n",
      "“Chernobyl! trL>n 6”Warning message in simpleLoess(y, x, w, span, degree = degree, parametric = parametric, :\n",
      "“Chernobyl! trL>n 6”"
     ]
    },
    {
     "data": {},
     "metadata": {},
     "output_type": "display_data"
    },
    {
     "name": "stderr",
     "output_type": "stream",
     "text": [
      "Warning message in convertScene(width = width, height = height, elementId = elementId, :\n",
      "“Can't take snapshot with NULL rgl device”"
     ]
    }
   ],
   "source": [
    "# repeat the plot above in three dimensions\n",
    "# the retention time dimension should allow\n",
    "# the detection of peaks that selected by KMD\n",
    "# that do not fit the curve\n",
    "plot3d(vec,  type='h')\n",
    "tmp <- vec[as.numeric(comp[[1]]),]\n",
    "for(i in 1:nrow(tmp)) {\n",
    "    segments3d(matrix(c(tmp[i,1:2], 0, tmp[i,]), ncol=3, byrow=TRUE), col=2, lwd=3)\n",
    "}\n",
    "spheres3d(vec[as.numeric(comp[[1]])[filt[[1]]],], radius=50000000, col=2)\n",
    "y <- vec[as.numeric(comp[[1]])[filt[[1]]],3]                                                             \n",
    "x <- vec[as.numeric(comp[[1]])[filt[[1]]],1]                                                             \n",
    "xl <- seq(min(x),max(x), (max(x) - min(x))/1000)                                                          \n",
    "lo <- loess(y~x)                                                                                          \n",
    "z <- vec[as.numeric(comp[[1]])[filt[[1]]],2]\n",
    "# loop over retention time and generate points\n",
    "zl <- seq(min(z),max(z), (max(z) - min(z))/1000)\n",
    "lines3d(xl, zl, predict(lo,xl), col='red', lwd=5)\n",
    "\n",
    "# Save html file\n",
    "filename <- writeWebGL(dir = \".\", filename =\"peakshape.html\", width = 500, reuse = TRUE)"
   ]
  },
  {
   "cell_type": "code",
   "execution_count": 11,
   "metadata": {
    "collapsed": false
   },
   "outputs": [
    {
     "data": {
      "text/html": [
       "<iframe src=\"./peakshape.html\" width=1000, height=1000></iframe> "
      ]
     },
     "metadata": {},
     "output_type": "display_data"
    }
   ],
   "source": [
    "IRdisplay::display_html('<iframe src=\"./peakshape.html\" width=1000, height=1000></iframe> ')"
   ]
  },
  {
   "cell_type": "code",
   "execution_count": 12,
   "metadata": {
    "collapsed": true
   },
   "outputs": [],
   "source": [
    "output <- Kendrick.mass.filter(\n",
    "    data_matrix, \n",
    "    vec,\n",
    "    polymer = \"polyethylene_glycol_other_C2H4O1\", \n",
    "    KMD = 0.01, \n",
    "    RT = 0.8, \n",
    "    NOS = 2, \n",
    "    connection_filter = TRUE,\n",
    "    filterShape=TRUE,\n",
    "    fractionBase=2\n",
    ")"
   ]
  },
  {
   "cell_type": "code",
   "execution_count": 13,
   "metadata": {
    "collapsed": false
   },
   "outputs": [
    {
     "name": "stderr",
     "output_type": "stream",
     "text": [
      "Warning message in simpleLoess(y, x, w, span, degree = degree, parametric = parametric, :\n",
      "“span too small.   fewer data values than degrees of freedom.”Warning message in simpleLoess(y, x, w, span, degree = degree, parametric = parametric, :\n",
      "“pseudoinverse used at 357.02”Warning message in simpleLoess(y, x, w, span, degree = degree, parametric = parametric, :\n",
      "“neighborhood radius 22.233”Warning message in simpleLoess(y, x, w, span, degree = degree, parametric = parametric, :\n",
      "“reciprocal condition number  0”Warning message in simpleLoess(y, x, w, span, degree = degree, parametric = parametric, :\n",
      "“There are other near singularities as well. 494.36”"
     ]
    },
    {
     "data": {
      "image/png": "[encoded data removed]",
      "text/plain": [
       "plot without title"
      ]
     },
     "metadata": {},
     "output_type": "display_data"
    }
   ],
   "source": [
    "# Plot shape filter\n",
    "\n",
    "# connected peaks detected by KMD\n",
    "comp <- output$conn\n",
    "# selection of the pattern deteced by filterShape\n",
    "filt <- output$filt\n",
    "\n",
    "plot(vec[,-2], type='h')\n",
    "points(vec[as.numeric(comp[[3]]),-2], type='h', col=2, lwd=2)\n",
    "\n",
    "y <- vec[as.numeric(comp[[3]])[filt[[3]]],3]\n",
    "x <- vec[as.numeric(comp[[3]])[filt[[3]]],1]\n",
    "\n",
    "# Fit a polynomial curve for points of the interval\n",
    "# with the pattern interval\n",
    "xl <- seq(min(x),max(x), (max(x) - min(x))/1000)\n",
    "lo <- loess(y~x)\n",
    "lines(xl, predict(lo,xl), col='red', lwd=2)"
   ]
  },
  {
   "cell_type": "code",
   "execution_count": 14,
   "metadata": {
    "collapsed": false
   },
   "outputs": [
    {
     "name": "stderr",
     "output_type": "stream",
     "text": [
      "Warning message in simpleLoess(y, x, w, span, degree = degree, parametric = parametric, :\n",
      "“span too small.   fewer data values than degrees of freedom.”Warning message in simpleLoess(y, x, w, span, degree = degree, parametric = parametric, :\n",
      "“pseudoinverse used at 357.02”Warning message in simpleLoess(y, x, w, span, degree = degree, parametric = parametric, :\n",
      "“neighborhood radius 22.233”Warning message in simpleLoess(y, x, w, span, degree = degree, parametric = parametric, :\n",
      "“reciprocal condition number  0”Warning message in simpleLoess(y, x, w, span, degree = degree, parametric = parametric, :\n",
      "“There are other near singularities as well. 494.36”"
     ]
    },
    {
     "data": {
      "image/png": "[encoded data removed]",
      "text/plain": [
       "plot without title"
      ]
     },
     "metadata": {},
     "output_type": "display_data"
    }
   ],
   "source": [
    "# Plot shape filter of charge 2 and shape filtered\n",
    "\n",
    "# connected peaks detected by KMD\n",
    "comp <- output$conn\n",
    "# selection of the pattern deteced by filterShape\n",
    "filt <- output$filt\n",
    "\n",
    "y <- vec[as.numeric(comp[[3]])[filt[[3]]],3]\n",
    "x <- vec[as.numeric(comp[[3]])[filt[[3]]],1]\n",
    "\n",
    "# trick to subselect 'zoom in the graph'\n",
    "mxy <- max(y)+0.1*max(y)\n",
    "\n",
    "plot(vec[vec[,3]<mxy,-2], type='h')\n",
    "points(vec[as.numeric(comp[[3]]),-2][vec[as.numeric(comp[[3]]),3]<mxy,], type='h', col=2, lwd=2)\n",
    "\n",
    "\n",
    "# Fit a polynomial curve for points of the interval\n",
    "# with the pattern interval\n",
    "xl <- seq(min(x),max(x), (max(x) - min(x))/1000)\n",
    "lo <- loess(y~x)\n",
    "lines(xl, predict(lo,xl), col='red', lwd=2)"
   ]
  },
  {
   "cell_type": "code",
   "execution_count": 15,
   "metadata": {
    "collapsed": false
   },
   "outputs": [
    {
     "data": {
      "text/html": [
       "<table>\n",
       "<thead><tr><th scope=col>#FEATURE</th><th scope=col>rt</th><th scope=col>mz</th><th scope=col>intensity</th><th scope=col>charge</th></tr></thead>\n",
       "<tbody>\n",
       "\t<tr><td>FEATURE </td><td>602.951 </td><td>68.99400</td><td>1404.23 </td><td>0       </td></tr>\n",
       "\t<tr><td>FEATURE </td><td>614.177 </td><td>72.93850</td><td>1619.03 </td><td>0       </td></tr>\n",
       "\t<tr><td>FEATURE </td><td>602.951 </td><td>78.00002</td><td>1738.12 </td><td>0       </td></tr>\n",
       "\t<tr><td>FEATURE </td><td>607.764 </td><td>78.00042</td><td>1058.20 </td><td>0       </td></tr>\n",
       "\t<tr><td>FEATURE </td><td>614.177 </td><td>78.99854</td><td>3425.49 </td><td>0       </td></tr>\n",
       "</tbody>\n",
       "</table>\n"
      ],
      "text/latex": [
       "\\begin{tabular}{r|lllll}\n",
       " \\#FEATURE & rt & mz & intensity & charge\\\\\n",
       "\\hline\n",
       "\t FEATURE  & 602.951  & 68.99400 & 1404.23  & 0       \\\\\n",
       "\t FEATURE  & 614.177  & 72.93850 & 1619.03  & 0       \\\\\n",
       "\t FEATURE  & 602.951  & 78.00002 & 1738.12  & 0       \\\\\n",
       "\t FEATURE  & 607.764  & 78.00042 & 1058.20  & 0       \\\\\n",
       "\t FEATURE  & 614.177  & 78.99854 & 3425.49  & 0       \\\\\n",
       "\\end{tabular}\n"
      ],
      "text/markdown": [
       "\n",
       "#FEATURE | rt | mz | intensity | charge | \n",
       "|---|---|---|---|---|\n",
       "| FEATURE  | 602.951  | 68.99400 | 1404.23  | 0        | \n",
       "| FEATURE  | 614.177  | 72.93850 | 1619.03  | 0        | \n",
       "| FEATURE  | 602.951  | 78.00002 | 1738.12  | 0        | \n",
       "| FEATURE  | 607.764  | 78.00042 | 1058.20  | 0        | \n",
       "| FEATURE  | 614.177  | 78.99854 | 3425.49  | 0        | \n",
       "\n",
       "\n"
      ],
      "text/plain": [
       "  #FEATURE rt      mz       intensity charge\n",
       "1 FEATURE  602.951 68.99400 1404.23   0     \n",
       "2 FEATURE  614.177 72.93850 1619.03   0     \n",
       "3 FEATURE  602.951 78.00002 1738.12   0     \n",
       "4 FEATURE  607.764 78.00042 1058.20   0     \n",
       "5 FEATURE  614.177 78.99854 3425.49   0     "
      ]
     },
     "metadata": {},
     "output_type": "display_data"
    }
   ],
   "source": [
    "feat <- read.delim(\"BF1637_1_5_diluted_GG1_01_37572.csv\", skip=5, header=FALSE)\n",
    "cnames <- read.delim(\"BF1637_1_5_diluted_GG1_01_37572.csv\", skip=3, nrow=1, header=FALSE)\n",
    "colnames(feat) <- as.vector(as.matrix(cnames))\n",
    "feat[1:5,1:5]"
   ]
  },
  {
   "cell_type": "code",
   "execution_count": 16,
   "metadata": {
    "collapsed": false
   },
   "outputs": [
    {
     "data": {
      "text/html": [
       "<table>\n",
       "<thead><tr><th></th><th scope=col>mz</th><th scope=col>rt</th><th scope=col>intensity</th></tr></thead>\n",
       "<tbody>\n",
       "\t<tr><th scope=row>11719</th><td>347.9462</td><td>184.529 </td><td> 2944.94</td></tr>\n",
       "\t<tr><th scope=row>12291</th><td>355.6113</td><td>112.374 </td><td> 5559.05</td></tr>\n",
       "\t<tr><th scope=row>17031</th><td>470.3389</td><td>536.804 </td><td> 1787.70</td></tr>\n",
       "\t<tr><th scope=row>17294</th><td>478.3485</td><td>549.090 </td><td> 4481.35</td></tr>\n",
       "\t<tr><th scope=row>17571</th><td>486.0081</td><td>552.299 </td><td> 3074.24</td></tr>\n",
       "\t<tr><th scope=row>17731</th><td>491.0154</td><td>550.695 </td><td>21684.20</td></tr>\n",
       "</tbody>\n",
       "</table>\n"
      ],
      "text/latex": [
       "\\begin{tabular}{r|lll}\n",
       "  & mz & rt & intensity\\\\\n",
       "\\hline\n",
       "\t11719 & 347.9462 & 184.529  &  2944.94\\\\\n",
       "\t12291 & 355.6113 & 112.374  &  5559.05\\\\\n",
       "\t17031 & 470.3389 & 536.804  &  1787.70\\\\\n",
       "\t17294 & 478.3485 & 549.090  &  4481.35\\\\\n",
       "\t17571 & 486.0081 & 552.299  &  3074.24\\\\\n",
       "\t17731 & 491.0154 & 550.695  & 21684.20\\\\\n",
       "\\end{tabular}\n"
      ],
      "text/markdown": [
       "\n",
       "| <!--/--> | mz | rt | intensity | \n",
       "|---|---|---|---|---|---|\n",
       "| 11719 | 347.9462 | 184.529  |  2944.94 | \n",
       "| 12291 | 355.6113 | 112.374  |  5559.05 | \n",
       "| 17031 | 470.3389 | 536.804  |  1787.70 | \n",
       "| 17294 | 478.3485 | 549.090  |  4481.35 | \n",
       "| 17571 | 486.0081 | 552.299  |  3074.24 | \n",
       "| 17731 | 491.0154 | 550.695  | 21684.20 | \n",
       "\n",
       "\n"
      ],
      "text/plain": [
       "      mz       rt      intensity\n",
       "11719 347.9462 184.529  2944.94 \n",
       "12291 355.6113 112.374  5559.05 \n",
       "17031 470.3389 536.804  1787.70 \n",
       "17294 478.3485 549.090  4481.35 \n",
       "17571 486.0081 552.299  3074.24 \n",
       "17731 491.0154 550.695 21684.20 "
      ]
     },
     "metadata": {},
     "output_type": "display_data"
    }
   ],
   "source": [
    "vec <- feat[feat[,5]==3,c(3,2,4)]\n",
    "head(vec)"
   ]
  },
  {
   "cell_type": "code",
   "execution_count": 17,
   "metadata": {
    "collapsed": true
   },
   "outputs": [],
   "source": [
    "output <- Kendrick.mass.filter(\n",
    "    data_matrix, \n",
    "    vec,\n",
    "    polymer = 'polypropylene_glycol_other_C3H6O1', \n",
    "    KMD = 0.01, \n",
    "    RT = 0.8, \n",
    "    NOS = 2, \n",
    "    connection_filter = TRUE,\n",
    "    filterShape=TRUE,\n",
    "    fractionBase=3\n",
    ")"
   ]
  },
  {
   "cell_type": "code",
   "execution_count": 18,
   "metadata": {
    "collapsed": false
   },
   "outputs": [
    {
     "data": {
      "text/plain": [
       "NULL"
      ]
     },
     "metadata": {},
     "output_type": "display_data"
    }
   ],
   "source": [
    "output"
   ]
  }
 ],
 "metadata": {
  "anaconda-cloud": {},
  "kernelspec": {
   "display_name": "R",
   "language": "R",
   "name": "ir"
  },
  "language_info": {
   "codemirror_mode": "r",
   "file_extension": ".r",
   "mimetype": "text/x-r-source",
   "name": "R",
   "pygments_lexer": "r",
   "version": "3.2.3"
  }
 },
 "nbformat": 4,
 "nbformat_minor": 2
}
